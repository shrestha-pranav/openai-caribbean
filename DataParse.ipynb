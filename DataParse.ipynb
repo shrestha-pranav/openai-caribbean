{
 "cells": [
  {
   "cell_type": "code",
   "execution_count": null,
   "metadata": {},
   "outputs": [],
   "source": [
    "import os\n",
    "import json\n",
    "from PIL import Image\n",
    "\n",
    "import numpy as np\n",
    "import pandas as pd\n",
    "\n",
    "import rasterio\n",
    "from rasterio import warp\n",
    "from rasterio.mask import mask"
   ]
  },
  {
   "cell_type": "code",
   "execution_count": null,
   "metadata": {},
   "outputs": [],
   "source": [
    "# Utility functions\n",
    "Path     = os.path.join\n",
    "DataPath = lambda path: os.path.join(DATA_DIR, path)\n",
    "\n",
    "def mkdir_p(directory):\n",
    "    if not os.path.exists(directory):\n",
    "        os.mkdir(directory)"
   ]
  },
  {
   "cell_type": "code",
   "execution_count": null,
   "metadata": {},
   "outputs": [],
   "source": [
    "# The reference for lat/long is epsg:4326\n",
    "# This is the format that all of the coordinates in geojson files is\n",
    "src_crs = rasterio.crs.CRS.from_string('EPSG:4326')\n",
    "\n",
    "# Create the base data directory\n",
    "DATA_DIR = os.path.join(os.getcwd(), \"data\")\n",
    "\n",
    "# Create directories for verified and un-verified data\n",
    "TEST_DIR       = DataPath(\"test\")\n",
    "VERIFIED_DIR   = DataPath(\"verified\")\n",
    "UNVERIFIED_DIR = DataPath(\"unverified\")\n",
    "\n",
    "mkdir_p(TEST_DIR)\n",
    "mkdir_p(DATA_DIR)\n",
    "mkdir_p(VERIFIED_DIR)\n",
    "mkdir_p(UNVERIFIED_DIR)\n",
    "\n",
    "print(f\"Data Directory  : {DATA_DIR}\")\n",
    "print(f\"Verified Data   : {VERIFIED_DIR}\")\n",
    "print(f\"Unverified Data : {UNVERIFIED_DIR}\")\n",
    "print(f\"Test Directory  : {TEST_DIR}\")"
   ]
  },
  {
   "cell_type": "code",
   "execution_count": null,
   "metadata": {},
   "outputs": [],
   "source": [
    "# Now we need to fill those directories with possible classes directories\n",
    "train_labels = pd.read_csv(DataPath(\"train_labels.csv\"))\n",
    "\n",
    "for roof_type in train_labels.columns[2:]:\n",
    "    mkdir_p(Path(VERIFIED_DIR, roof_type))\n",
    "    mkdir_p(Path(UNVERIFIED_DIR, roof_type))"
   ]
  },
  {
   "cell_type": "markdown",
   "metadata": {},
   "source": [
    "# Training data"
   ]
  },
  {
   "cell_type": "code",
   "execution_count": null,
   "metadata": {},
   "outputs": [],
   "source": [
    "# Now, we need to go through every single load of data\n",
    "# And put it in the right place\n",
    "metadata = pd.read_csv(DataPath('metadata.csv'))\n",
    "for i, row in metadata.iterrows():\n",
    "    img_path     = row['image']\n",
    "    geojson_path = row['train']\n",
    "    \n",
    "    with rasterio.open(DataPath(img_path)) as tiff:\n",
    "        with open(DataPath(geojson_path)) as gjfile:\n",
    "            feature_collection = json.load(gjfile)\n",
    "            for feature in feature_collection['features']:\n",
    "                # Feature fields we'll need\n",
    "                fid      = feature['id']\n",
    "                verified =  'verified' if feature['properties']['verified'] else 'unverified'\n",
    "                material = feature['properties']['roof_material']\n",
    "                geom     = feature['geometry']\n",
    "\n",
    "                # Warp to the right reference \n",
    "                warped_geom = warp.transform_geom(src_crs, tiff.crs, geom, precision=16)\n",
    "\n",
    "                # Now we want to crop out the image itself\n",
    "                out_image, out_transform = mask(tiff, [warped_geom], crop=True)\n",
    "                out_meta = tiff.meta.copy()\n",
    "\n",
    "                # Update the metadata for the image\n",
    "                out_meta.update({\"driver\": \"GTiff\",\n",
    "                                 \"height\": out_image.shape[1],\n",
    "                                 \"width\":  out_image.shape[2],\n",
    "                                 \"transform\": out_transform})\n",
    "\n",
    "                # Write it to its own file\n",
    "                with rasterio.open(Path(DATA_DIR, verified, material, f\"{fid}.tif\"), \"w\", **out_meta) as dest:\n",
    "                    dest.write(out_image)"
   ]
  },
  {
   "cell_type": "markdown",
   "metadata": {},
   "source": [
    "# Testing data"
   ]
  },
  {
   "cell_type": "code",
   "execution_count": null,
   "metadata": {},
   "outputs": [],
   "source": [
    "# Now, we need to go through every single load of data\n",
    "# And put it in the right place\n",
    "metadata = pd.read_csv(DataPath('metadata.csv'))\n",
    "for i, row in metadata.iterrows():\n",
    "    img_path     = row['image']\n",
    "    geojson_path = row['test']\n",
    "    \n",
    "    # Check if geojson_path is nan\n",
    "    if geojson_path != geojson_path: continue\n",
    "\n",
    "    with rasterio.open(DataPath(img_path)) as tiff:\n",
    "        with open(DataPath(geojson_path)) as gjfile:\n",
    "            feature_collection = json.load(gjfile)\n",
    "            \n",
    "            for feature in feature_collection['features']:\n",
    "                # Feature fields we'll need\n",
    "                fid      = feature['id']\n",
    "                geom     = feature['geometry']\n",
    "\n",
    "                # Warp to the right reference \n",
    "                warped_geom = warp.transform_geom(src_crs, tiff.crs, geom, precision=16)\n",
    "\n",
    "                # Now we want to crop out the image itself\n",
    "                out_image, out_transform = mask(tiff, [warped_geom], crop=True)\n",
    "                out_meta = tiff.meta.copy()\n",
    "\n",
    "                # Update the metadata for the image\n",
    "                out_meta.update({\"driver\": \"GTiff\",\n",
    "                                 \"height\": out_image.shape[1],\n",
    "                                 \"width\":  out_image.shape[2],\n",
    "                                 \"transform\": out_transform})\n",
    "\n",
    "                # Write it to its own file\n",
    "                with rasterio.open(Path(DATA_DIR, \"test\", f\"{fid}.tif\"), \"w\", **out_meta) as dest:\n",
    "                    dest.write(out_image)"
   ]
  }
 ],
 "metadata": {
  "kernelspec": {
   "display_name": "Python 3",
   "language": "python",
   "name": "python3"
  },
  "language_info": {
   "codemirror_mode": {
    "name": "ipython",
    "version": 3
   },
   "file_extension": ".py",
   "mimetype": "text/x-python",
   "name": "python",
   "nbconvert_exporter": "python",
   "pygments_lexer": "ipython3",
   "version": "3.5.3"
  }
 },
 "nbformat": 4,
 "nbformat_minor": 4
}

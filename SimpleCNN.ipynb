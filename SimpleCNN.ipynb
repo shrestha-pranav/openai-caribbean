{
 "cells": [
  {
   "cell_type": "code",
   "execution_count": null,
   "metadata": {},
   "outputs": [],
   "source": [
    "import os\n",
    "import numpy as np\n",
    "import pandas as pd\n",
    "\n",
    "import matplotlib.pyplot as plt\n",
    "\n",
    "import tensorflow as tf\n",
    "from tensorflow.keras.preprocessing.image import ImageDataGenerator\n",
    "\n",
    "from tensorflow.keras.models import *\n",
    "from tensorflow.keras.layers import *\n",
    "from tensorflow.keras.optimizers import *"
   ]
  },
  {
   "cell_type": "code",
   "execution_count": null,
   "metadata": {},
   "outputs": [],
   "source": [
    "DATA_DIR   = os.path.join(os.getcwd(), \"data\")\n",
    "OUTPUT_DIR = os.path.join(os.getcwd(), \"output\")\n",
    "\n",
    "# Utility functions\n",
    "Path     = os.path.join\n",
    "DataPath = lambda path: os.path.join(DATA_DIR, path)\n",
    "\n",
    "def mkdir_p(directory):\n",
    "    if not os.path.exists(directory):\n",
    "        os.mkdir(directory)"
   ]
  },
  {
   "cell_type": "code",
   "execution_count": null,
   "metadata": {},
   "outputs": [],
   "source": [
    "img_width, img_height = 128, 128\n",
    "\n",
    "# this is the augmentation configuration we will use for training\n",
    "train_datagen = ImageDataGenerator(\n",
    "            rescale=1./255,\n",
    "            shear_range=0.2,\n",
    "            zoom_range=0.2,\n",
    "            horizontal_flip=True,\n",
    "            validation_split=0.2)\n",
    "\n",
    "train_generator = train_datagen.flow_from_directory(\n",
    "        Path(DATA_DIR, 'verified'),\n",
    "        color_mode='rgba',\n",
    "        target_size=(img_width, img_height),\n",
    "        batch_size=128,\n",
    "        class_mode='categorical',\n",
    "        subset='training'\n",
    ")\n",
    "\n",
    "valid_generator = train_datagen.flow_from_directory(\n",
    "        Path(DATA_DIR, 'verified'),\n",
    "        color_mode='rgba',\n",
    "        target_size=(img_width, img_height),\n",
    "        batch_size=512,\n",
    "        class_mode='categorical',\n",
    "        subset='validation'\n",
    ")\n",
    "\n",
    "# Split using https://stackoverflow.com/questions/42443936/keras-split-train-test-set-when-using-imagedatagenerator\n",
    "print(\"Label codes : \", train_generator.class_indices)\n",
    "print(\"Training data   : \", train_generator.n)\n",
    "print(\"Validation data : \", valid_generator.n)"
   ]
  },
  {
   "cell_type": "code",
   "execution_count": null,
   "metadata": {},
   "outputs": [],
   "source": [
    "model = Sequential([\n",
    "    Conv2D(32, (5, 5), input_shape=(img_width, img_height, 4)),\n",
    "    Flatten(),\n",
    "    Dense(256, activation='relu'),\n",
    "    Dropout(0.5),\n",
    "    Dense(5, activation='softmax')\n",
    "])"
   ]
  },
  {
   "cell_type": "code",
   "execution_count": null,
   "metadata": {},
   "outputs": [],
   "source": [
    "# Compile with Binary Crossentropy loss and SGD optimizer\n",
    "model.compile(loss='categorical_crossentropy', optimizer=SGD(lr=1e-4, momentum=0.9), metrics=['accuracy'])"
   ]
  },
  {
   "cell_type": "code",
   "execution_count": null,
   "metadata": {},
   "outputs": [],
   "source": [
    "# Train for 5 epochs\n",
    "model.fit_generator(train_generator, epochs=5, validation_data=valid_generator)"
   ]
  },
  {
   "cell_type": "code",
   "execution_count": null,
   "metadata": {},
   "outputs": [],
   "source": [
    "test_datagen = ImageDataGenerator(\n",
    "    rescale = 1./255\n",
    ")\n",
    "\n",
    "test_generator = test_datagen.flow_from_directory(\n",
    "    Path(DATA_DIR, \"test\"),\n",
    "    color_mode = 'rgba',\n",
    "    target_size = (img_width, img_height),\n",
    "    batch_size = 25,\n",
    "    class_mode=None\n",
    ")\n",
    "\n",
    "# Split using https://stackoverflow.com/questions/42443936/keras-split-train-test-set-when-using-imagedatagenerator\n",
    "print(\"Label codes : \", test_generator.class_indices)\n",
    "print(\"Test data   : \", test_generator.n)"
   ]
  },
  {
   "cell_type": "code",
   "execution_count": null,
   "metadata": {},
   "outputs": [],
   "source": [
    "output = model.predict_generator(test_generator)\n",
    "fids = map(lambda x: os.path.basename(x).split('.')[0], test_generator.filepaths)\n",
    "\n",
    "df = pd.DataFrame(output, index=fids, columns=train_generator.class_indices)\n",
    "df.index.name = 'id'\n",
    "submission_format = pd.read_csv(Path(OUTPUT_DIR, 'submission_format.csv'), index_col='id')\n",
    "df = df.reindex(submission_format.index)\n",
    "df.to_csv(Path(OUTPUT_DIR, \"submission.csv\"))"
   ]
  },
  {
   "cell_type": "code",
   "execution_count": null,
   "metadata": {},
   "outputs": [],
   "source": [
    "!dd-sub-valid output/submission_format.csv output/submission.csv"
   ]
  }
 ],
 "metadata": {
  "kernelspec": {
   "display_name": "Python 3",
   "language": "python",
   "name": "python3"
  },
  "language_info": {
   "codemirror_mode": {
    "name": "ipython",
    "version": 3
   },
   "file_extension": ".py",
   "mimetype": "text/x-python",
   "name": "python",
   "nbconvert_exporter": "python",
   "pygments_lexer": "ipython3",
   "version": "3.5.3"
  }
 },
 "nbformat": 4,
 "nbformat_minor": 4
}

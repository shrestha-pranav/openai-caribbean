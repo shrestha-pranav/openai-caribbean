{
 "cells": [
  {
   "cell_type": "code",
   "execution_count": 1,
   "metadata": {},
   "outputs": [],
   "source": [
    "import os\n",
    "import glob\n",
    "import json\n",
    "\n",
    "import numpy as np\n",
    "import pandas as pd"
   ]
  },
  {
   "cell_type": "markdown",
   "metadata": {},
   "source": [
    "# Parse existing data and map images to towns"
   ]
  },
  {
   "cell_type": "code",
   "execution_count": 2,
   "metadata": {},
   "outputs": [],
   "source": [
    "town_map = {\n",
    "    \"mixco_1_and_ebenezer\":0,\n",
    "    \"mixco_3\":1,\n",
    "    \"borde_soacha\":2,\n",
    "    \"borde_rural\":3,\n",
    "    \"dennery\":4,\n",
    "    \"castries\":5,\n",
    "    \"gros_islet\":5\n",
    "}\n",
    "\n",
    "file_map = {}\n",
    "\n",
    "for town in town_map:\n",
    "    train_file = \"data/geojsons/train-%s.geojson\"%town\n",
    "    test_file  = \"data/geojsons/test-%s.geojson\" %town\n",
    "    \n",
    "    with open(train_file) as geojson_file:\n",
    "        geojson = json.load(geojson_file)\n",
    "        \n",
    "        for feature in geojson['features']:\n",
    "            file_map[feature['id']] = town_map[town]\n",
    "    \n",
    "    if not os.path.exists(test_file): continue\n",
    "    with open(test_file) as geojson_file:\n",
    "        geojson = json.load(geojson_file)\n",
    "        \n",
    "        for feature in geojson['features']:\n",
    "            file_map[feature['id']] = town_map[town]"
   ]
  },
  {
   "cell_type": "code",
   "execution_count": 3,
   "metadata": {},
   "outputs": [
    {
     "data": {
      "text/html": [
       "<div>\n",
       "<style scoped>\n",
       "    .dataframe tbody tr th:only-of-type {\n",
       "        vertical-align: middle;\n",
       "    }\n",
       "\n",
       "    .dataframe tbody tr th {\n",
       "        vertical-align: top;\n",
       "    }\n",
       "\n",
       "    .dataframe thead th {\n",
       "        text-align: right;\n",
       "    }\n",
       "</style>\n",
       "<table border=\"1\" class=\"dataframe\">\n",
       "  <thead>\n",
       "    <tr style=\"text-align: right;\">\n",
       "      <th></th>\n",
       "      <th>verified</th>\n",
       "      <th>concrete_cement</th>\n",
       "      <th>healthy_metal</th>\n",
       "      <th>incomplete</th>\n",
       "      <th>irregular_metal</th>\n",
       "      <th>other</th>\n",
       "    </tr>\n",
       "    <tr>\n",
       "      <th>id</th>\n",
       "      <th></th>\n",
       "      <th></th>\n",
       "      <th></th>\n",
       "      <th></th>\n",
       "      <th></th>\n",
       "      <th></th>\n",
       "    </tr>\n",
       "  </thead>\n",
       "  <tbody>\n",
       "    <tr>\n",
       "      <td>7a3f2a10</td>\n",
       "      <td>True</td>\n",
       "      <td>1.0</td>\n",
       "      <td>0.0</td>\n",
       "      <td>0.0</td>\n",
       "      <td>0.0</td>\n",
       "      <td>0.0</td>\n",
       "    </tr>\n",
       "    <tr>\n",
       "      <td>7a1f731e</td>\n",
       "      <td>True</td>\n",
       "      <td>0.0</td>\n",
       "      <td>0.0</td>\n",
       "      <td>0.0</td>\n",
       "      <td>1.0</td>\n",
       "      <td>0.0</td>\n",
       "    </tr>\n",
       "    <tr>\n",
       "      <td>7a424ad8</td>\n",
       "      <td>True</td>\n",
       "      <td>0.0</td>\n",
       "      <td>1.0</td>\n",
       "      <td>0.0</td>\n",
       "      <td>0.0</td>\n",
       "      <td>0.0</td>\n",
       "    </tr>\n",
       "    <tr>\n",
       "      <td>7a3edc5e</td>\n",
       "      <td>True</td>\n",
       "      <td>0.0</td>\n",
       "      <td>1.0</td>\n",
       "      <td>0.0</td>\n",
       "      <td>0.0</td>\n",
       "      <td>0.0</td>\n",
       "    </tr>\n",
       "    <tr>\n",
       "      <td>7a303a6e</td>\n",
       "      <td>True</td>\n",
       "      <td>0.0</td>\n",
       "      <td>1.0</td>\n",
       "      <td>0.0</td>\n",
       "      <td>0.0</td>\n",
       "      <td>0.0</td>\n",
       "    </tr>\n",
       "  </tbody>\n",
       "</table>\n",
       "</div>"
      ],
      "text/plain": [
       "          verified  concrete_cement  healthy_metal  incomplete  \\\n",
       "id                                                               \n",
       "7a3f2a10      True              1.0            0.0         0.0   \n",
       "7a1f731e      True              0.0            0.0         0.0   \n",
       "7a424ad8      True              0.0            1.0         0.0   \n",
       "7a3edc5e      True              0.0            1.0         0.0   \n",
       "7a303a6e      True              0.0            1.0         0.0   \n",
       "\n",
       "          irregular_metal  other  \n",
       "id                                \n",
       "7a3f2a10              0.0    0.0  \n",
       "7a1f731e              1.0    0.0  \n",
       "7a424ad8              0.0    0.0  \n",
       "7a3edc5e              0.0    0.0  \n",
       "7a303a6e              0.0    0.0  "
      ]
     },
     "execution_count": 3,
     "metadata": {},
     "output_type": "execute_result"
    }
   ],
   "source": [
    "df = pd.read_csv(\"data/train_labels.csv\", index_col='id')\n",
    "verified = df[df.verified==True]\n",
    "verified.head()"
   ]
  },
  {
   "cell_type": "code",
   "execution_count": 4,
   "metadata": {},
   "outputs": [
    {
     "name": "stdout",
     "output_type": "stream",
     "text": [
      "[ 9.32750504 49.63685272  4.49226631 35.24546066  1.29791527]\n",
      "Training town distribution :  [3351  159 5995 4361 1004]\n"
     ]
    }
   ],
   "source": [
    "files  = list(verified.index)\n",
    "labels = verified[df.columns[1:]].to_numpy().argmax(1)\n",
    "train_ids = [file_map[fid] for fid in files]\n",
    "\n",
    "print(np.bincount(labels) / len(labels) * 100)\n",
    "print(\"Training town distribution : \", np.bincount(train_ids))"
   ]
  },
  {
   "cell_type": "markdown",
   "metadata": {},
   "source": [
    "# Generate dataframe with Augmented Data"
   ]
  },
  {
   "cell_type": "code",
   "execution_count": 5,
   "metadata": {},
   "outputs": [
    {
     "data": {
      "text/html": [
       "<div>\n",
       "<style scoped>\n",
       "    .dataframe tbody tr th:only-of-type {\n",
       "        vertical-align: middle;\n",
       "    }\n",
       "\n",
       "    .dataframe tbody tr th {\n",
       "        vertical-align: top;\n",
       "    }\n",
       "\n",
       "    .dataframe thead th {\n",
       "        text-align: right;\n",
       "    }\n",
       "</style>\n",
       "<table border=\"1\" class=\"dataframe\">\n",
       "  <thead>\n",
       "    <tr style=\"text-align: right;\">\n",
       "      <th></th>\n",
       "      <th>label</th>\n",
       "      <th>filelabel</th>\n",
       "    </tr>\n",
       "  </thead>\n",
       "  <tbody>\n",
       "    <tr>\n",
       "      <td>7a3f2a10</td>\n",
       "      <td>0</td>\n",
       "      <td>3</td>\n",
       "    </tr>\n",
       "    <tr>\n",
       "      <td>7a1f731e</td>\n",
       "      <td>3</td>\n",
       "      <td>3</td>\n",
       "    </tr>\n",
       "    <tr>\n",
       "      <td>7a424ad8</td>\n",
       "      <td>1</td>\n",
       "      <td>3</td>\n",
       "    </tr>\n",
       "    <tr>\n",
       "      <td>7a3edc5e</td>\n",
       "      <td>1</td>\n",
       "      <td>3</td>\n",
       "    </tr>\n",
       "    <tr>\n",
       "      <td>7a303a6e</td>\n",
       "      <td>1</td>\n",
       "      <td>3</td>\n",
       "    </tr>\n",
       "  </tbody>\n",
       "</table>\n",
       "</div>"
      ],
      "text/plain": [
       "          label  filelabel\n",
       "7a3f2a10      0          3\n",
       "7a1f731e      3          3\n",
       "7a424ad8      1          3\n",
       "7a3edc5e      1          3\n",
       "7a303a6e      1          3"
      ]
     },
     "execution_count": 5,
     "metadata": {},
     "output_type": "execute_result"
    }
   ],
   "source": [
    "new_train_ids = pd.DataFrame(data={\"label\":labels, \"filelabel\":train_ids}, index=files, columns=[\"label\", \"filelabel\"])\n",
    "new_train_ids.to_csv(\"new_train.csv\", index_label=\"id\")\n",
    "new_train_ids.head()"
   ]
  },
  {
   "cell_type": "code",
   "execution_count": 6,
   "metadata": {},
   "outputs": [
    {
     "name": "stdout",
     "output_type": "stream",
     "text": [
      "Testing town distribution :  [1568   58 3017 2160  522]\n"
     ]
    },
    {
     "data": {
      "text/html": [
       "<div>\n",
       "<style scoped>\n",
       "    .dataframe tbody tr th:only-of-type {\n",
       "        vertical-align: middle;\n",
       "    }\n",
       "\n",
       "    .dataframe tbody tr th {\n",
       "        vertical-align: top;\n",
       "    }\n",
       "\n",
       "    .dataframe thead th {\n",
       "        text-align: right;\n",
       "    }\n",
       "</style>\n",
       "<table border=\"1\" class=\"dataframe\">\n",
       "  <thead>\n",
       "    <tr style=\"text-align: right;\">\n",
       "      <th></th>\n",
       "      <th>filelabel</th>\n",
       "    </tr>\n",
       "  </thead>\n",
       "  <tbody>\n",
       "    <tr>\n",
       "      <td>7a459b34</td>\n",
       "      <td>3</td>\n",
       "    </tr>\n",
       "    <tr>\n",
       "      <td>7a4b61ea</td>\n",
       "      <td>4</td>\n",
       "    </tr>\n",
       "    <tr>\n",
       "      <td>7a4e8258</td>\n",
       "      <td>3</td>\n",
       "    </tr>\n",
       "    <tr>\n",
       "      <td>7a511018</td>\n",
       "      <td>2</td>\n",
       "    </tr>\n",
       "    <tr>\n",
       "      <td>7a4f5a34</td>\n",
       "      <td>0</td>\n",
       "    </tr>\n",
       "  </tbody>\n",
       "</table>\n",
       "</div>"
      ],
      "text/plain": [
       "          filelabel\n",
       "7a459b34          3\n",
       "7a4b61ea          4\n",
       "7a4e8258          3\n",
       "7a511018          2\n",
       "7a4f5a34          0"
      ]
     },
     "execution_count": 6,
     "metadata": {},
     "output_type": "execute_result"
    }
   ],
   "source": [
    "test_files = [fname[:-4] for fname in os.listdir(\"data/test_aligned/test_images/\")]\n",
    "test_ids   = [file_map[fid] for fid in test_files]\n",
    "\n",
    "print(\"Testing town distribution : \", np.bincount(test_ids))\n",
    "new_test_ids = pd.DataFrame(data=test_ids, index=test_files, columns=[\"filelabel\"])\n",
    "new_test_ids.to_csv(\"new_test.csv\", index_label=\"id\")\n",
    "new_test_ids.head()"
   ]
  }
 ],
 "metadata": {
  "kernelspec": {
   "display_name": "Python 3",
   "language": "python",
   "name": "python3"
  },
  "language_info": {
   "codemirror_mode": {
    "name": "ipython",
    "version": 3
   },
   "file_extension": ".py",
   "mimetype": "text/x-python",
   "name": "python",
   "nbconvert_exporter": "python",
   "pygments_lexer": "ipython3",
   "version": "3.5.3"
  }
 },
 "nbformat": 4,
 "nbformat_minor": 4
}

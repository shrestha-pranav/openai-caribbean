{
 "cells": [
  {
   "cell_type": "code",
   "execution_count": null,
   "metadata": {},
   "outputs": [],
   "source": [
    "import numpy as np\n",
    "import cv2\n",
    "from PIL import Image\n",
    "from scipy.ndimage.interpolation import rotate\n",
    "from matplotlib import pyplot as plt\n",
    "import os"
   ]
  },
  {
   "cell_type": "code",
   "execution_count": null,
   "metadata": {},
   "outputs": [],
   "source": [
    "def load_image(filename):\n",
    "    return np.asarray(Image.open(filename))\n",
    "\n",
    "def get_angle(im):\n",
    "    # Segment image into rectangle corresponding to building\n",
    "    # and not building\n",
    "    gray = cv2.cvtColor(im, cv2.COLOR_BGR2GRAY)    \n",
    "    thresh = cv2.threshold(gray, 0, 255, cv2.THRESH_BINARY | cv2.THRESH_OTSU)[1]\n",
    "    coords = np.column_stack(np.where(thresh > 0))\n",
    "    \n",
    "    angle = cv2.minAreaRect(coords)[-1]\n",
    "    angle = -(90 + angle) if angle < -45 else -angle\n",
    "    return angle\n",
    "\n",
    "def rotate_img(im):\n",
    "    return rotate(im, get_angle(im))\n",
    "\n",
    "def crop(im):\n",
    "    x,y,z = np.where(im != 0)\n",
    "    return im[min(x):max(x)+1,min(y):max(y)+1,min(z):max(z)+1] \n",
    "\n",
    "def save_img(im, path):\n",
    "    result = Image.fromarray(im)\n",
    "    result.save(path)"
   ]
  },
  {
   "cell_type": "code",
   "execution_count": null,
   "metadata": {},
   "outputs": [],
   "source": [
    "# Utility functions\n",
    "Path     = os.path.join\n",
    "DataPath = lambda path: os.path.join(DATA_DIR, path)\n",
    "\n",
    "def mkdir_p(directory):\n",
    "    if not os.path.exists(directory):\n",
    "        os.mkdir(directory)"
   ]
  },
  {
   "cell_type": "markdown",
   "metadata": {},
   "source": [
    "### TRAIN DATA ALIGN"
   ]
  },
  {
   "cell_type": "code",
   "execution_count": null,
   "metadata": {},
   "outputs": [],
   "source": [
    "DATA_DIR = os.path.join(os.getcwd(), \"data\")\n",
    "VERIFIED_DIR   = DataPath(\"verified\")\n",
    "VERIFIED_ALIGNED_DIR = DataPath(\"verified_aligned\")\n",
    "\n",
    "mkdir_p(DATA_DIR)\n",
    "mkdir_p(VERIFIED_DIR)\n",
    "mkdir_p(VERIFIED_ALIGNED_DIR)"
   ]
  },
  {
   "cell_type": "code",
   "execution_count": null,
   "metadata": {},
   "outputs": [],
   "source": [
    "for class_type in os.listdir(VERIFIED_DIR):\n",
    "    # Make the aligned images directory\n",
    "    aligned_path = Path(VERIFIED_ALIGNED_DIR, class_type)\n",
    "    mkdir_p(aligned_path)\n",
    "    \n",
    "    verified_path = Path(VERIFIED_DIR, class_type)\n",
    "    # Iterate over every image in verified directory\n",
    "    for im_name in os.listdir(verified_path):\n",
    "        im_path = Path(verified_path, im_name)\n",
    "        im = load_image(im_path)\n",
    "        \n",
    "        aligned_im = crop(rotate_img(im))\n",
    "        \n",
    "        save_img(aligned_im, Path(aligned_path, im_name))"
   ]
  },
  {
   "cell_type": "markdown",
   "metadata": {},
   "source": [
    "### TEST DATA ALIGN"
   ]
  },
  {
   "cell_type": "code",
   "execution_count": null,
   "metadata": {},
   "outputs": [],
   "source": [
    "TEST_DIR = DataPath(\"test\")\n",
    "TEST_IMS = Path(TEST_DIR, \"test_images\")\n",
    "TEST_ALIGNED_DIR = DataPath(\"test_aligned\")\n",
    "\n",
    "mkdir_p(TEST_DIR)\n",
    "mkdir_p(TEST_ALIGNED_DIR)"
   ]
  },
  {
   "cell_type": "code",
   "execution_count": null,
   "metadata": {},
   "outputs": [],
   "source": [
    "for im_name in os.listdir(TEST_IMS):\n",
    "    im_path = Path(TEST_IMS, im_name)\n",
    "    im = load_image(im_path)\n",
    "    \n",
    "    aligned_im = crop(rotate_img(im))\n",
    "    save_img(aligned_im, Path(TEST_ALIGNED_DIR, im_name))"
   ]
  }
 ],
 "metadata": {
  "kernelspec": {
   "display_name": "Python 3",
   "language": "python",
   "name": "python3"
  },
  "language_info": {
   "codemirror_mode": {
    "name": "ipython",
    "version": 3
   },
   "file_extension": ".py",
   "mimetype": "text/x-python",
   "name": "python",
   "nbconvert_exporter": "python",
   "pygments_lexer": "ipython3",
   "version": "3.5.3"
  }
 },
 "nbformat": 4,
 "nbformat_minor": 4
}
